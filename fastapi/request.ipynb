{
 "cells": [
  {
   "cell_type": "code",
   "execution_count": 21,
   "metadata": {},
   "outputs": [
    {
     "name": "stdout",
     "output_type": "stream",
     "text": [
      "{\"prediction\":\"You are not likely to get a stroke.\"}\n"
     ]
    }
   ],
   "source": [
    "# STROKE PREDICTION\n",
    "import requests\n",
    "import json\n",
    "  \n",
    "# api-endpoint\n",
    "URL = \"http://127.0.0.1:8000/stroke_prediction\"\n",
    "  \n",
    "# defining a params dict for the parameters to be sent to the API\n",
    "values = {\n",
    "  \"gender\": \"male\",\n",
    "  \"age\": 34,\n",
    "  \"hypertension\": \"yes\",\n",
    "  \"heart_disease\": \"yes\",\n",
    "  \"ever_married\": \"yes\",\n",
    "  \"work_type\": \"private\",\n",
    "  \"residence_type\": \"rural\",\n",
    "  \"avg_glucose_level\": 67,\n",
    "  \"bmi\": 23,\n",
    "  \"smoking_status\": \"smokes\"\n",
    "}\n",
    "# sending get request and saving the response as response object\n",
    "request = requests.post(url = URL, json = values)\n",
    "\n",
    "print(request.text)\n"
   ]
  },
  {
   "cell_type": "code",
   "execution_count": 22,
   "metadata": {},
   "outputs": [
    {
     "name": "stdout",
     "output_type": "stream",
     "text": [
      "{\"prediction\":\"You are not likely to get have hypertension.\"}\n"
     ]
    }
   ],
   "source": [
    "# hypertension prediction\n",
    "\n",
    "# api-endpoint\n",
    "URL = \"http://127.0.0.1:8000/hypertension_prediction\"\n",
    "  \n",
    "# defining a params dict for the parameters to be sent to the API\n",
    "values = {\n",
    "  \"gender\": \"male\",\n",
    "  \"age\": 20,\n",
    "  \"heart_disease\": \"yes\",\n",
    "  \"ever_married\": \"yes\",\n",
    "  \"work_type\": \"govt_job\",\n",
    "  \"residence_type\": \"rural\",\n",
    "  \"avg_glucose_level\": 35,\n",
    "  \"bmi\": 25,\n",
    "  \"smoking_status\": \"smokes\"\n",
    "}\n",
    "# sending get request and saving the response as response object\n",
    "request = requests.post(url = URL, json = values)\n",
    "\n",
    "print(request.text)\n"
   ]
  },
  {
   "cell_type": "code",
   "execution_count": 23,
   "metadata": {},
   "outputs": [
    {
     "name": "stdout",
     "output_type": "stream",
     "text": [
      "{\"prediction\":\"Your glucose level is likely to be in the range of: 151-200 mg/dl\"}\n"
     ]
    }
   ],
   "source": [
    "# glucose prediction\n",
    "\n",
    "# api-endpoint\n",
    "URL = \"http://127.0.0.1:8000/glucose_level_prediction\"\n",
    "  \n",
    "# defining a params dict for the parameters to be sent to the API\n",
    "values = {\n",
    "  \"gender\": \"female\",\n",
    "  \"age\": 16,\n",
    "  \"hypertension\": \"yes\",\n",
    "  \"heart_disease\": \"yes\",\n",
    "  \"ever_married\": \"yes\",\n",
    "  \"work_type\": \"private\",\n",
    "  \"residence_type\": \"rural\",\n",
    "  \"bmi\": 24,\n",
    "  \"smoking_status\": \"smokes\",\n",
    "  \"heart_hypertenz\": \"yes\"\n",
    "}\n",
    "# sending get request and saving the response as response object\n",
    "request = requests.post(url = URL, json = values)\n",
    "\n",
    "print(request.text)\n"
   ]
  },
  {
   "cell_type": "code",
   "execution_count": 24,
   "metadata": {},
   "outputs": [
    {
     "name": "stdout",
     "output_type": "stream",
     "text": [
      "{\"prediction\":\"Your bmi is in the range of slightly overweight: 25-30\"}\n"
     ]
    }
   ],
   "source": [
    "# bmi prediction\n",
    "\n",
    "# api-endpoint\n",
    "URL = \"http://127.0.0.1:8000/bmi_group_prediction\"\n",
    "  \n",
    "# defining a params dict for the parameters to be sent to the API\n",
    "values = {\n",
    "  \"gender\": \"female\",\n",
    "  \"age\": 50,\n",
    "  \"hypertension\": \"no\",\n",
    "  \"heart_disease\": \"no\",\n",
    "  \"ever_married\": \"no\",\n",
    "  \"work_type\": \"private\",\n",
    "  \"residence_type\": \"urban\",\n",
    "  \"avg_glucose_level\": 56,\n",
    "  \"smoking_status\": \"unknown\",\n",
    "  \"heart_hypertenz\": \"no\"\n",
    "}\n",
    "# sending get request and saving the response as response object\n",
    "request = requests.post(url = URL, json = values)\n",
    "\n",
    "print(request.text)\n"
   ]
  },
  {
   "cell_type": "code",
   "execution_count": 25,
   "metadata": {},
   "outputs": [
    {
     "name": "stdout",
     "output_type": "stream",
     "text": [
      "{\"prediction\":\"Your glucose level is likely to be in the range of: 51-100 mg/dl. Your bmi is in the normal range of 18-24\"}\n"
     ]
    }
   ],
   "source": [
    "# glucose bmi prediction\n",
    "\n",
    "# api-endpoint\n",
    "URL = \"http://127.0.0.1:8000/glucose_bmi_prediction\"\n",
    "  \n",
    "# defining a params dict for the parameters to be sent to the API\n",
    "values = {\n",
    "  \"gender\": \"male\",\n",
    "  \"age\": 10,\n",
    "  \"hypertension\": \"no\",\n",
    "  \"heart_disease\": \"no\",\n",
    "  \"ever_married\": \"no\",\n",
    "  \"work_type\": \"not_working\",\n",
    "  \"residence_type\": \"urban\",\n",
    "  \"smoking_status\": \"never smoked\",\n",
    "  \"heart_hypertenz\": \"no\"\n",
    "}\n",
    "\n",
    "# sending get request and saving the response as response object\n",
    "request = requests.post(url = URL, json = values)\n",
    "\n",
    "print(request.text)"
   ]
  },
  {
   "cell_type": "code",
   "execution_count": 26,
   "metadata": {},
   "outputs": [
    {
     "name": "stdout",
     "output_type": "stream",
     "text": [
      "{\"prediction\":\"You do not have hypertension.Your bmi is in the overweight range of 31-35\"}\n"
     ]
    }
   ],
   "source": [
    "# hypertension bmi prediction\n",
    "\n",
    "# api-endpoint\n",
    "URL = \"http://127.0.0.1:8000/hypertension_bmi_prediction\"\n",
    "  \n",
    "# defining a params dict for the parameters to be sent to the API\n",
    "values = {\n",
    "  \"gender\": \"male\",\n",
    "  \"age\": 56,\n",
    "  \"heart_disease\": \"yes\",\n",
    "  \"ever_married\": \"yes\",\n",
    "  \"work_type\": \"private\",\n",
    "  \"residence_type\": \"rural\",\n",
    "  \"avg_glucose_level\": 56,\n",
    "  \"smoking_status\": \"smokes\"\n",
    "}\n",
    "\n",
    "# sending get request and saving the response as response object\n",
    "request = requests.post(url = URL, json = values)\n",
    "\n",
    "print(request.text)"
   ]
  },
  {
   "cell_type": "code",
   "execution_count": 27,
   "metadata": {},
   "outputs": [
    {
     "name": "stdout",
     "output_type": "stream",
     "text": [
      "{\"prediction\":\"You do not have hypertension.Your glucose level is likely to be in the range of: 151-200 mg/dl.\"}\n"
     ]
    }
   ],
   "source": [
    "# hypertension glucose prediction\n",
    "\n",
    "# api-endpoint\n",
    "URL = \"http://127.0.0.1:8000/hypertension_glucose_prediction\"\n",
    "  \n",
    "# defining a params dict for the parameters to be sent to the API\n",
    "values = {\n",
    "  \"gender\": \"male\",\n",
    "  \"age\": 30,\n",
    "  \"heart_disease\": \"yes\",\n",
    "  \"ever_married\": \"yes\",\n",
    "  \"work_type\": \"self-employed\",\n",
    "  \"residence_type\": \"urban\",\n",
    "  \"bmi\": 23,\n",
    "  \"smoking_status\": \"unknown\"\n",
    "}\n",
    "\n",
    "# sending get request and saving the response as response object\n",
    "request = requests.post(url = URL, json = values)\n",
    "\n",
    "print(request.text)"
   ]
  },
  {
   "cell_type": "code",
   "execution_count": 28,
   "metadata": {},
   "outputs": [
    {
     "name": "stdout",
     "output_type": "stream",
     "text": [
      "{\"prediction\":\"You do not have hypertension. Your glucose level is likely to be in the range of: 51-100 mg/dl. Your bmi is in the normal range of 18-24\"}\n"
     ]
    }
   ],
   "source": [
    "# hypertension glucose bmi prediction\n",
    "\n",
    "# api-endpoint\n",
    "URL = \"http://127.0.0.1:8000/hypertension_glucose_bmi_prediction\"\n",
    "  \n",
    "# defining a params dict for the parameters to be sent to the API\n",
    "values = {\n",
    "  \"gender\": \"female\",\n",
    "  \"age\": 23,\n",
    "  \"heart_disease\": \"no\",\n",
    "  \"ever_married\": \"no\",\n",
    "  \"work_type\": \"not_working\",\n",
    "  \"residence_type\": \"urban\",\n",
    "  \"smoking_status\": \"never smoked\",\n",
    "  \"stroke\": \"no\"\n",
    "}\n",
    "\n",
    "# sending get request and saving the response as response object\n",
    "request = requests.post(url = URL, json = values)\n",
    "\n",
    "print(request.text)"
   ]
  }
 ],
 "metadata": {
  "kernelspec": {
   "display_name": "Python 3.9.7 ('base')",
   "language": "python",
   "name": "python3"
  },
  "language_info": {
   "codemirror_mode": {
    "name": "ipython",
    "version": 3
   },
   "file_extension": ".py",
   "mimetype": "text/x-python",
   "name": "python",
   "nbconvert_exporter": "python",
   "pygments_lexer": "ipython3",
   "version": "3.9.7"
  },
  "orig_nbformat": 4,
  "vscode": {
   "interpreter": {
    "hash": "0c5fee0f00ea2c742b92b76075fa8dbcc0b49d869dc703f5f6953fe6305a2f31"
   }
  }
 },
 "nbformat": 4,
 "nbformat_minor": 2
}
